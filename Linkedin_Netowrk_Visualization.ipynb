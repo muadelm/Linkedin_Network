{
 "cells": [
  {
   "cell_type": "code",
   "execution_count": 1,
   "metadata": {},
   "outputs": [],
   "source": [
    "!pip install pyjanitor pyvis --quiet"
   ]
  },
  {
   "cell_type": "code",
   "execution_count": 2,
   "metadata": {},
   "outputs": [],
   "source": [
    "import pandas as pd\n",
    "import janitor\n",
    "import datetime\n",
    "\n",
    "from IPython.core.display import display, HTML\n",
    "from pyvis import network as net\n",
    "import networkx as nx"
   ]
  },
  {
   "cell_type": "code",
   "execution_count": 3,
   "metadata": {},
   "outputs": [],
   "source": [
    "df_ori = pd.read_csv(\"Connections.csv\", skiprows=2)"
   ]
  },
  {
   "cell_type": "code",
   "execution_count": 4,
   "metadata": {},
   "outputs": [
    {
     "name": "stdout",
     "output_type": "stream",
     "text": [
      "<class 'pandas.core.frame.DataFrame'>\n",
      "RangeIndex: 1981 entries, 0 to 1980\n",
      "Data columns (total 6 columns):\n",
      " #   Column         Non-Null Count  Dtype \n",
      "---  ------         --------------  ----- \n",
      " 0   First Name     1930 non-null   object\n",
      " 1   Last Name      1930 non-null   object\n",
      " 2   Email Address  61 non-null     object\n",
      " 3   Company        1897 non-null   object\n",
      " 4   Position       1898 non-null   object\n",
      " 5   Connected On   1981 non-null   object\n",
      "dtypes: object(6)\n",
      "memory usage: 93.0+ KB\n"
     ]
    }
   ],
   "source": [
    "df_ori.info()"
   ]
  },
  {
   "cell_type": "code",
   "execution_count": 5,
   "metadata": {},
   "outputs": [
    {
     "data": {
      "text/html": [
       "<div>\n",
       "<style scoped>\n",
       "    .dataframe tbody tr th:only-of-type {\n",
       "        vertical-align: middle;\n",
       "    }\n",
       "\n",
       "    .dataframe tbody tr th {\n",
       "        vertical-align: top;\n",
       "    }\n",
       "\n",
       "    .dataframe thead th {\n",
       "        text-align: right;\n",
       "    }\n",
       "</style>\n",
       "<table border=\"1\" class=\"dataframe\">\n",
       "  <thead>\n",
       "    <tr style=\"text-align: right;\">\n",
       "      <th></th>\n",
       "      <th>company</th>\n",
       "      <th>position</th>\n",
       "      <th>connected_on</th>\n",
       "    </tr>\n",
       "  </thead>\n",
       "  <tbody>\n",
       "    <tr>\n",
       "      <th>0</th>\n",
       "      <td>Standard Chartered Bank</td>\n",
       "      <td>Director</td>\n",
       "      <td>2021-11-07</td>\n",
       "    </tr>\n",
       "    <tr>\n",
       "      <th>1</th>\n",
       "      <td>Khalda Petroleum Company (Apache)</td>\n",
       "      <td>Completion and Well intervention Engineer</td>\n",
       "      <td>2021-11-05</td>\n",
       "    </tr>\n",
       "    <tr>\n",
       "      <th>2</th>\n",
       "      <td>Qatar Career Development Center</td>\n",
       "      <td>Career Development Officer</td>\n",
       "      <td>2021-11-02</td>\n",
       "    </tr>\n",
       "    <tr>\n",
       "      <th>3</th>\n",
       "      <td>Gojek</td>\n",
       "      <td>Data Scientist</td>\n",
       "      <td>2021-11-02</td>\n",
       "    </tr>\n",
       "    <tr>\n",
       "      <th>4</th>\n",
       "      <td>Apache Corporation</td>\n",
       "      <td>Lead Data Scientist</td>\n",
       "      <td>2021-11-02</td>\n",
       "    </tr>\n",
       "  </tbody>\n",
       "</table>\n",
       "</div>"
      ],
      "text/plain": [
       "                             company  \\\n",
       "0            Standard Chartered Bank   \n",
       "1  Khalda Petroleum Company (Apache)   \n",
       "2    Qatar Career Development Center   \n",
       "3                              Gojek   \n",
       "4                 Apache Corporation   \n",
       "\n",
       "                                    position connected_on  \n",
       "0                                   Director   2021-11-07  \n",
       "1  Completion and Well intervention Engineer   2021-11-05  \n",
       "2                 Career Development Officer   2021-11-02  \n",
       "3                             Data Scientist   2021-11-02  \n",
       "4                        Lead Data Scientist   2021-11-02  "
      ]
     },
     "execution_count": 5,
     "metadata": {},
     "output_type": "execute_result"
    }
   ],
   "source": [
    "df = (\n",
    "    df_ori\n",
    "    .clean_names() # remove spacing and capitalization\n",
    "    .drop(columns=['first_name', 'last_name', 'email_address']) # drop for privacy\n",
    "    .dropna(subset=['company', 'position']) # drop missing values in company and position\n",
    "    .to_datetime('connected_on', format='%d %b %Y')\n",
    "  )\n",
    "df.head()"
   ]
  },
  {
   "cell_type": "markdown",
   "metadata": {},
   "source": [
    "### EDA"
   ]
  },
  {
   "cell_type": "code",
   "execution_count": 19,
   "metadata": {},
   "outputs": [
    {
     "data": {
      "image/png": "[encoded data removed]",
      "text/plain": [
       "<Figure size 432x288 with 1 Axes>"
      ]
     },
     "metadata": {
      "needs_background": "light"
     },
     "output_type": "display_data"
    }
   ],
   "source": [
    "df['company'].value_counts().head(20).plot(kind=\"barh\").invert_yaxis()"
   ]
  },
  {
   "cell_type": "code",
   "execution_count": 20,
   "metadata": {},
   "outputs": [
    {
     "data": {
      "image/png": "[encoded data removed]",
      "text/plain": [
       "<Figure size 432x288 with 1 Axes>"
      ]
     },
     "metadata": {
      "needs_background": "light"
     },
     "output_type": "display_data"
    }
   ],
   "source": [
    "df['position'].value_counts().head(20).plot(kind=\"barh\").invert_yaxis();"
   ]
  },
  {
   "cell_type": "code",
   "execution_count": 21,
   "metadata": {},
   "outputs": [
    {
     "data": {
      "image/png": "[encoded data removed]",
      "text/plain": [
       "<Figure size 432x288 with 1 Axes>"
      ]
     },
     "metadata": {
      "needs_background": "light"
     },
     "output_type": "display_data"
    }
   ],
   "source": [
    "df['connected_on'].hist(xrot=35, bins=15);"
   ]
  },
  {
   "cell_type": "markdown",
   "metadata": {},
   "source": [
    "### Aggregate sum of connections for companies"
   ]
  },
  {
   "cell_type": "code",
   "execution_count": 30,
   "metadata": {},
   "outputs": [
    {
     "data": {
      "text/plain": [
       "\"\\ndf_company = df.groupby(['company'])['company'].count().to_frame()\\ndf_company.reset_index()\\ndf_company.columns = ['comp', 'count']\\n\\n\""
      ]
     },
     "execution_count": 30,
     "metadata": {},
     "output_type": "execute_result"
    }
   ],
   "source": [
    "\"\"\"\n",
    "df_company = df.groupby(['company'])['company'].count().to_frame()\n",
    "df_company.reset_index()\n",
    "df_company.columns = ['comp', 'count']\n",
    "\n",
    "\"\"\""
   ]
  },
  {
   "cell_type": "code",
   "execution_count": 31,
   "metadata": {},
   "outputs": [
    {
     "data": {
      "text/html": [
       "<div>\n",
       "<style scoped>\n",
       "    .dataframe tbody tr th:only-of-type {\n",
       "        vertical-align: middle;\n",
       "    }\n",
       "\n",
       "    .dataframe tbody tr th {\n",
       "        vertical-align: top;\n",
       "    }\n",
       "\n",
       "    .dataframe thead th {\n",
       "        text-align: right;\n",
       "    }\n",
       "</style>\n",
       "<table border=\"1\" class=\"dataframe\">\n",
       "  <thead>\n",
       "    <tr style=\"text-align: right;\">\n",
       "      <th></th>\n",
       "      <th>company</th>\n",
       "      <th>count</th>\n",
       "    </tr>\n",
       "  </thead>\n",
       "  <tbody>\n",
       "    <tr>\n",
       "      <th>0</th>\n",
       "      <td>Bapetco</td>\n",
       "      <td>69</td>\n",
       "    </tr>\n",
       "    <tr>\n",
       "      <th>1</th>\n",
       "      <td>Schlumberger</td>\n",
       "      <td>36</td>\n",
       "    </tr>\n",
       "    <tr>\n",
       "      <th>2</th>\n",
       "      <td>Shell</td>\n",
       "      <td>30</td>\n",
       "    </tr>\n",
       "    <tr>\n",
       "      <th>3</th>\n",
       "      <td>University of Aberdeen</td>\n",
       "      <td>20</td>\n",
       "    </tr>\n",
       "    <tr>\n",
       "      <th>4</th>\n",
       "      <td>Khalda Petroleum Company (Apache)</td>\n",
       "      <td>16</td>\n",
       "    </tr>\n",
       "    <tr>\n",
       "      <th>5</th>\n",
       "      <td>GUPCO</td>\n",
       "      <td>15</td>\n",
       "    </tr>\n",
       "    <tr>\n",
       "      <th>6</th>\n",
       "      <td>ADNOC Group</td>\n",
       "      <td>13</td>\n",
       "    </tr>\n",
       "    <tr>\n",
       "      <th>7</th>\n",
       "      <td>Wood Mackenzie</td>\n",
       "      <td>13</td>\n",
       "    </tr>\n",
       "    <tr>\n",
       "      <th>8</th>\n",
       "      <td>Belayiem  petroleum company - Petrobel</td>\n",
       "      <td>12</td>\n",
       "    </tr>\n",
       "    <tr>\n",
       "      <th>9</th>\n",
       "      <td>bp</td>\n",
       "      <td>12</td>\n",
       "    </tr>\n",
       "  </tbody>\n",
       "</table>\n",
       "</div>"
      ],
      "text/plain": [
       "                                  company  count\n",
       "0                                 Bapetco     69\n",
       "1                            Schlumberger     36\n",
       "2                                   Shell     30\n",
       "3                  University of Aberdeen     20\n",
       "4       Khalda Petroleum Company (Apache)     16\n",
       "5                                   GUPCO     15\n",
       "6                             ADNOC Group     13\n",
       "7                          Wood Mackenzie     13\n",
       "8  Belayiem  petroleum company - Petrobel     12\n",
       "9                                      bp     12"
      ]
     },
     "execution_count": 31,
     "metadata": {},
     "output_type": "execute_result"
    }
   ],
   "source": [
    "df_company = df['company'].value_counts().reset_index()\n",
    "df_company.columns = ['company', 'count']\n",
    "df_company = df_company.sort_values(by=\"count\", ascending=False)\n",
    "df_company.head(10)"
   ]
  },
  {
   "cell_type": "markdown",
   "metadata": {},
   "source": [
    "### Aggregate sum of connections for positions"
   ]
  },
  {
   "cell_type": "code",
   "execution_count": 32,
   "metadata": {},
   "outputs": [
    {
     "data": {
      "text/html": [
       "<div>\n",
       "<style scoped>\n",
       "    .dataframe tbody tr th:only-of-type {\n",
       "        vertical-align: middle;\n",
       "    }\n",
       "\n",
       "    .dataframe tbody tr th {\n",
       "        vertical-align: top;\n",
       "    }\n",
       "\n",
       "    .dataframe thead th {\n",
       "        text-align: right;\n",
       "    }\n",
       "</style>\n",
       "<table border=\"1\" class=\"dataframe\">\n",
       "  <thead>\n",
       "    <tr style=\"text-align: right;\">\n",
       "      <th></th>\n",
       "      <th>position</th>\n",
       "      <th>count</th>\n",
       "    </tr>\n",
       "  </thead>\n",
       "  <tbody>\n",
       "    <tr>\n",
       "      <th>0</th>\n",
       "      <td>Petroleum Engineer</td>\n",
       "      <td>30</td>\n",
       "    </tr>\n",
       "    <tr>\n",
       "      <th>1</th>\n",
       "      <td>Reservoir Engineer</td>\n",
       "      <td>25</td>\n",
       "    </tr>\n",
       "    <tr>\n",
       "      <th>2</th>\n",
       "      <td>Managing Director</td>\n",
       "      <td>19</td>\n",
       "    </tr>\n",
       "    <tr>\n",
       "      <th>3</th>\n",
       "      <td>Process Engineer</td>\n",
       "      <td>17</td>\n",
       "    </tr>\n",
       "    <tr>\n",
       "      <th>4</th>\n",
       "      <td>Data Scientist</td>\n",
       "      <td>14</td>\n",
       "    </tr>\n",
       "    <tr>\n",
       "      <th>5</th>\n",
       "      <td>Chief Executive Officer</td>\n",
       "      <td>11</td>\n",
       "    </tr>\n",
       "    <tr>\n",
       "      <th>6</th>\n",
       "      <td>President</td>\n",
       "      <td>10</td>\n",
       "    </tr>\n",
       "    <tr>\n",
       "      <th>7</th>\n",
       "      <td>Director</td>\n",
       "      <td>9</td>\n",
       "    </tr>\n",
       "    <tr>\n",
       "      <th>8</th>\n",
       "      <td>Project Manager</td>\n",
       "      <td>9</td>\n",
       "    </tr>\n",
       "    <tr>\n",
       "      <th>13</th>\n",
       "      <td>Drilling Supervisor</td>\n",
       "      <td>7</td>\n",
       "    </tr>\n",
       "  </tbody>\n",
       "</table>\n",
       "</div>"
      ],
      "text/plain": [
       "                   position  count\n",
       "0        Petroleum Engineer     30\n",
       "1        Reservoir Engineer     25\n",
       "2         Managing Director     19\n",
       "3          Process Engineer     17\n",
       "4            Data Scientist     14\n",
       "5   Chief Executive Officer     11\n",
       "6                 President     10\n",
       "7                  Director      9\n",
       "8           Project Manager      9\n",
       "13      Drilling Supervisor      7"
      ]
     },
     "execution_count": 32,
     "metadata": {},
     "output_type": "execute_result"
    }
   ],
   "source": [
    "df_position = df['position'].value_counts().reset_index()\n",
    "df_position.columns = ['position', 'count']\n",
    "df_position = df_position.sort_values(by=\"count\", ascending=False)\n",
    "df_position.head(10)"
   ]
  },
  {
   "cell_type": "markdown",
   "metadata": {},
   "source": [
    "## Creating the network"
   ]
  },
  {
   "cell_type": "code",
   "execution_count": 40,
   "metadata": {},
   "outputs": [
    {
     "data": {
      "text/html": [
       "<html>\n",
       "<head>\n",
       "<link rel=\"stylesheet\" href=\"https://cdnjs.cloudflare.com/ajax/libs/vis/4.16.1/vis.css\" type=\"text/css\" />\n",
       "<script type=\"text/javascript\" src=\"https://cdnjs.cloudflare.com/ajax/libs/vis/4.16.1/vis-network.min.js\"> </script>\n",
       "<center>\n",
       "<h1></h1>\n",
       "</center>\n",
       "\n",
       "<!-- <link rel=\"stylesheet\" href=\"../node_modules/vis/dist/vis.min.css\" type=\"text/css\" />\n",
       "<script type=\"text/javascript\" src=\"../node_modules/vis/dist/vis.js\"> </script>-->\n",
       "\n",
       "<style type=\"text/css\">\n",
       "\n",
       "        #mynetwork {\n",
       "            width: 500px;\n",
       "            height: 500px;\n",
       "            background-color: #ffffff;\n",
       "            border: 1px solid lightgray;\n",
       "            position: relative;\n",
       "            float: left;\n",
       "        }\n",
       "\n",
       "        \n",
       "\n",
       "        \n",
       "\n",
       "        \n",
       "</style>\n",
       "\n",
       "</head>\n",
       "\n",
       "<body>\n",
       "<div id = \"mynetwork\"></div>\n",
       "\n",
       "\n",
       "<script type=\"text/javascript\">\n",
       "\n",
       "    // initialize global variables.\n",
       "    var edges;\n",
       "    var nodes;\n",
       "    var network; \n",
       "    var container;\n",
       "    var options, data;\n",
       "\n",
       "    \n",
       "    // This method is responsible for drawing the graph, returns the drawn network\n",
       "    function drawGraph() {\n",
       "        var container = document.getElementById('mynetwork');\n",
       "        \n",
       "        \n",
       "\n",
       "        // parsing and collecting nodes and edges from the python\n",
       "        nodes = new vis.DataSet([{\"id\": 0, \"label\": \"root\", \"shape\": \"dot\", \"size\": 10}, {\"id\": 1, \"label\": \"Company 1\", \"shape\": \"dot\", \"size\": 10, \"title\": \"info1\"}, {\"id\": 2, \"label\": \"Company 2\", \"shape\": \"dot\", \"size\": 40, \"title\": \"info2\"}, {\"id\": 3, \"label\": \"Company 3\", \"shape\": \"dot\", \"size\": 60, \"title\": \"info3\"}]);\n",
       "        edges = new vis.DataSet([{\"from\": 0, \"to\": 1, \"weight\": 1}, {\"from\": 0, \"to\": 2, \"weight\": 1}, {\"from\": 0, \"to\": 3, \"weight\": 1}]);\n",
       "\n",
       "        // adding nodes and edges to the graph\n",
       "        data = {nodes: nodes, edges: edges};\n",
       "\n",
       "        var options = {\n",
       "    \"configure\": {\n",
       "        \"enabled\": false\n",
       "    },\n",
       "    \"edges\": {\n",
       "        \"color\": {\n",
       "            \"inherit\": true\n",
       "        },\n",
       "        \"smooth\": {\n",
       "            \"enabled\": false,\n",
       "            \"type\": \"continuous\"\n",
       "        }\n",
       "    },\n",
       "    \"interaction\": {\n",
       "        \"dragNodes\": true,\n",
       "        \"hideEdgesOnDrag\": false,\n",
       "        \"hideNodesOnDrag\": false\n",
       "    },\n",
       "    \"physics\": {\n",
       "        \"enabled\": true,\n",
       "        \"stabilization\": {\n",
       "            \"enabled\": true,\n",
       "            \"fit\": true,\n",
       "            \"iterations\": 1000,\n",
       "            \"onlyDynamicEdges\": false,\n",
       "            \"updateInterval\": 50\n",
       "        }\n",
       "    }\n",
       "};\n",
       "        \n",
       "        \n",
       "\n",
       "        \n",
       "\n",
       "        network = new vis.Network(container, data, options);\n",
       "\t \n",
       "        \n",
       "\n",
       "\n",
       "        \n",
       "\n",
       "        return network;\n",
       "\n",
       "    }\n",
       "\n",
       "    drawGraph();\n",
       "\n",
       "</script>\n",
       "</body>\n",
       "</html>"
      ],
      "text/plain": [
       "<IPython.core.display.HTML object>"
      ]
     },
     "metadata": {},
     "output_type": "display_data"
    }
   ],
   "source": [
    "\n",
    "nt = net.Network(notebook=True)\n",
    "\n",
    "g = nx.Graph()\n",
    "g.add_node(0, label = \"root\") # intialize yourself as central node\n",
    "g.add_node(1, label = \"Company 1\", size=10, title=\"info1\")\n",
    "g.add_node(2, label = \"Company 2\", size=40, title=\"info2\")\n",
    "g.add_node(3, label = \"Company 3\", size=60, title=\"info3\")\n",
    "g.add_edge(0, 1)\n",
    "g.add_edge(0, 2)\n",
    "g.add_edge(0, 3)\n",
    "\n",
    "nt.from_nx(g)\n",
    "nt.show('nodes.html')\n",
    "display(HTML('nodes.html'))"
   ]
  },
  {
   "cell_type": "code",
   "execution_count": 41,
   "metadata": {},
   "outputs": [
    {
     "name": "stdout",
     "output_type": "stream",
     "text": [
      "number of nodes: 4\n",
      "number of edges: 3\n"
     ]
    }
   ],
   "source": [
    "print(f\"number of nodes: {g.number_of_nodes()}\")\n",
    "print(f\"number of edges: {g.number_of_edges()}\")"
   ]
  },
  {
   "cell_type": "code",
   "execution_count": 42,
   "metadata": {},
   "outputs": [
    {
     "name": "stdout",
     "output_type": "stream",
     "text": [
      "Bapetco-69\n",
      "Schlumberger-36\n",
      "Shell-30\n",
      "University of Aberdeen-20\n",
      "Khalda Petroleum Company (Apache)-16\n"
     ]
    }
   ],
   "source": [
    "for _, row in df_company.head(5).iterrows():\n",
    "    print(row['company'] + \"-\" + str(row['count']))"
   ]
  },
  {
   "cell_type": "code",
   "execution_count": 43,
   "metadata": {},
   "outputs": [
    {
     "name": "stdout",
     "output_type": "stream",
     "text": [
      "(1366, 2)\n",
      "(32, 2)\n"
     ]
    }
   ],
   "source": [
    "print(df_company.shape)\n",
    "df_company_reduced = df_company.loc[df_company['count']>=5]\n",
    "print(df_company_reduced.shape)"
   ]
  },
  {
   "cell_type": "code",
   "execution_count": 44,
   "metadata": {},
   "outputs": [
    {
     "name": "stdout",
     "output_type": "stream",
     "text": [
      "(1507, 2)\n",
      "(29, 2)\n"
     ]
    }
   ],
   "source": [
    "print(df_position.shape)\n",
    "df_position_reduced = df_position.loc[df_position['count']>=5]\n",
    "print(df_position_reduced.shape)"
   ]
  },
  {
   "cell_type": "code",
   "execution_count": 50,
   "metadata": {},
   "outputs": [
    {
     "data": {
      "text/html": [
       "<html>\n",
       "<head>\n",
       "<link rel=\"stylesheet\" href=\"https://cdnjs.cloudflare.com/ajax/libs/vis/4.16.1/vis.css\" type=\"text/css\" />\n",
       "<script type=\"text/javascript\" src=\"https://cdnjs.cloudflare.com/ajax/libs/vis/4.16.1/vis-network.min.js\"> </script>\n",
       "<center>\n",
       "<h1></h1>\n",
       "</center>\n",
       "\n",
       "<!-- <link rel=\"stylesheet\" href=\"../node_modules/vis/dist/vis.min.css\" type=\"text/css\" />\n",
       "<script type=\"text/javascript\" src=\"../node_modules/vis/dist/vis.js\"> </script>-->\n",
       "\n",
       "<style type=\"text/css\">\n",
       "\n",
       "        #mynetwork {\n",
       "            width: 1200px;\n",
       "            height: 900px;\n",
       "            background-color: black;\n",
       "            border: 1px solid lightgray;\n",
       "            position: relative;\n",
       "            float: left;\n",
       "        }\n",
       "\n",
       "        \n",
       "\n",
       "        \n",
       "\n",
       "        \n",
       "</style>\n",
       "\n",
       "</head>\n",
       "\n",
       "<body>\n",
       "<div id = \"mynetwork\"></div>\n",
       "\n",
       "\n",
       "<script type=\"text/javascript\">\n",
       "\n",
       "    // initialize global variables.\n",
       "    var edges;\n",
       "    var nodes;\n",
       "    var network; \n",
       "    var container;\n",
       "    var options, data;\n",
       "\n",
       "    \n",
       "    // This method is responsible for drawing the graph, returns the drawn network\n",
       "    function drawGraph() {\n",
       "        var container = document.getElementById('mynetwork');\n",
       "        \n",
       "        \n",
       "\n",
       "        // parsing and collecting nodes and edges from the python\n",
       "        nodes = new vis.DataSet([{\"font\": {\"color\": \"white\"}, \"id\": \"root\", \"label\": \"root\", \"shape\": \"dot\", \"size\": 10}, {\"color\": \"#3449eb\", \"font\": {\"color\": \"white\"}, \"id\": \"Bapetco\", \"label\": \"Bapetco\", \"shape\": \"dot\", \"size\": 138, \"title\": \"\\u003cb\\u003eBapetco\\u003c/b\\u003e \\u2013 69\\u003cul\\u003e\\u003cli\\u003eSection head in production chemistry\\u003c/li\\u003e\\u003cli\\u003eReservoir Engineer\\u003c/li\\u003e\\u003cli\\u003eSenior Petrophysicist\\u003c/li\\u003e\\u003cli\\u003eSenior Rotating Equipment Engineer\\u003c/li\\u003e\\u003cli\\u003ePetroleum Engineer\\u003c/li\\u003e\\u003cli\\u003eSenior Well Services Engineer \\u003c/li\\u003e\\u003cli\\u003ePetrophysicist\\u003c/li\\u003e\\u003cli\\u003eField Production Engineer\\u003c/li\\u003e\\u003cli\\u003eSenior Well Engineer P\\u0026P team\\u003c/li\\u003e\\u003cli\\u003eSuperintendent\\u003c/li\\u003e\\u003cli\\u003eObaiyed asset team leader\\u003c/li\\u003e\\u003cli\\u003eCWI Supervisor\\u003c/li\\u003e\\u003cli\\u003eProduction Technology engineer\\u003c/li\\u003e\\u003cli\\u003eIntern Petroleum Engineer\\u003c/li\\u003e\\u003cli\\u003eProuction supervisor \\u003c/li\\u003e\\u003cli\\u003eProduction Supervisor\\u003c/li\\u003e\\u003cli\\u003ework over \\u0026 well intervention engineer\\u003c/li\\u003e\\u003cli\\u003eTeam lead of Completion well intervention , Workover opertions \\u003c/li\\u003e\\u003cli\\u003eCompletion \\u0026 Well Intervention Engineer\\u003c/li\\u003e\\u003cli\\u003eNight drilling supervisor\\u003c/li\\u003e\\u003cli\\u003eSenior Operations Engineer\\u003c/li\\u003e\\u003cli\\u003eengineer\\u003c/li\\u003e\\u003cli\\u003eSenior Drilling Supervisor\\u003c/li\\u003e\\u003cli\\u003eSenior Production Technologist\\u003c/li\\u003e\\u003cli\\u003eFacilities Optimization, Production debottleneck Lead\\u003c/li\\u003e\\u003cli\\u003ecompletion \\u0026 well intervention\\u003c/li\\u003e\\u003cli\\u003eSenior Project Mechanical Engineer\\u003c/li\\u003e\\u003cli\\u003eAssistant General Manager\\u003c/li\\u003e\\u003cli\\u003eReservoir Geologist\\u003c/li\\u003e\\u003cli\\u003ePetroleum Engineer (Petrophysics)\\u003c/li\\u003e\\u003cli\\u003eoperational safety lead\\u003c/li\\u003e\\u003cli\\u003ePetroleum Production Engineer\\u003c/li\\u003e\\u003cli\\u003eSenior Electrical and Instrumentation Engineer\\u003c/li\\u003e\\u003cli\\u003eWell Engineer\\u003c/li\\u003e\\u003cli\\u003eSenior Petroleum Engineer (Production technologist)\\u003c/li\\u003e\\u003cli\\u003eReservoir Engineer (Reservoir Management and Study Team)\\u003c/li\\u003e\\u003cli\\u003eProduction Technology Engineer\\u003c/li\\u003e\\u003cli\\u003eRegional Exploration Geologist\\u003c/li\\u003e\\u003cli\\u003eDCS Operator\\u003c/li\\u003e\\u003cli\\u003eProduction Geologist\\u003c/li\\u003e\\u003cli\\u003eAsset integrity Engineer\\u003c/li\\u003e\\u003cli\\u003eNew Wells Delivery Lead /  BED \\u0026 NEAG WRFM Lead / Stimulation Focal Point \\u003c/li\\u003e\\u003cli\\u003eWorkover ,Completion \\u0026 CWI Supervisor.\\u003c/li\\u003e\\u003cli\\u003eProduction Support Engineer\\u003c/li\\u003e\\u003cli\\u003eOil \\u0026 Gas Production General Manager\\u003c/li\\u003e\\u003cli\\u003ewater flood operation Engineer\\u003c/li\\u003e\\u003cli\\u003eSenior Process Safety Engineer\\u003c/li\\u003e\\u003cli\\u003eProcess Engineer\\u003c/li\\u003e\\u003cli\\u003eWellservices CWI Supervisor\\u003c/li\\u003e\\u003cli\\u003eSenior Geoscientist and Geo-Modeler\\u003c/li\\u003e\\u003cli\\u003edpartment head\\u003c/li\\u003e\\u003cli\\u003eWell Services Supervisor (Completion \\u0026 Well Intervention) - Drilling Dept.\\u003c/li\\u003e\\u003cli\\u003eSenior development geologist \\u0026 geomodeler\\u003c/li\\u003e\\u003cli\\u003eDrilling Supervisor\\u003c/li\\u003e\\u003cli\\u003eSenior Production Engineer\\u003c/li\\u003e\\u003cli\\u003eTrainee\\u003c/li\\u003e\\u003cli\\u003eProduction Technologist\\u003c/li\\u003e\\u003cli\\u003eHSE Department Head\\u003c/li\\u003e\\u003cli\\u003eProjects-  operation readiness ORA/CSU manager\\u003c/li\\u003e\\u003c/ul\\u003e\"}, {\"color\": \"#3449eb\", \"font\": {\"color\": \"white\"}, \"id\": \"Schlumberger\", \"label\": \"Schlumberger\", \"shape\": \"dot\", \"size\": 72, \"title\": \"\\u003cb\\u003eSchlumberger\\u003c/b\\u003e \\u2013 36\\u003cul\\u003e\\u003cli\\u003eGroup Global Account Executive\\u003c/li\\u003e\\u003cli\\u003eIntern\\u003c/li\\u003e\\u003cli\\u003eMBA Consultant\\u003c/li\\u003e\\u003cli\\u003eField Engineer\\u003c/li\\u003e\\u003cli\\u003eData Scientist\\u003c/li\\u003e\\u003cli\\u003eDirectional Engineer - Cell Manager\\u003c/li\\u003e\\u003cli\\u003eDigital \\u0026 Integration Division\\u003c/li\\u003e\\u003cli\\u003ePrincipal Geologist\\u003c/li\\u003e\\u003cli\\u003eSales Account Manager\\u003c/li\\u003e\\u003cli\\u003eProduction Services Domain Champion\\u003c/li\\u003e\\u003cli\\u003ePIPESIM Product Champion\\u003c/li\\u003e\\u003cli\\u003eHead of Energy Transition \\u003c/li\\u003e\\u003cli\\u003eReservoir Performance Operations Integrity Manager\\u003c/li\\u003e\\u003cli\\u003eDirector Corporate Strategy \\u0026 Marketing\\u003c/li\\u003e\\u003cli\\u003ePetroleum Reservoir Engineer, GHD Reservoir engineer coordinator Hub2\\u003c/li\\u003e\\u003cli\\u003eCommissioning and Operations Engineer\\u003c/li\\u003e\\u003cli\\u003ePetroleum Engineering Team Lead\\u003c/li\\u003e\\u003cli\\u003eDigital Drilling Solutions Business Manager for MENA Region\\u003c/li\\u003e\\u003cli\\u003eSenior Drilling and Wells Intervention Engineer\\u003c/li\\u003e\\u003cli\\u003eTechnical Marketing - SIS HQ\\u003c/li\\u003e\\u003cli\\u003eEEG Data and Infrastructure Team Lead/Senior Production Operations\\u003c/li\\u003e\\u003cli\\u003eSenior Reservoir Engineer\\u003c/li\\u003e\\u003cli\\u003eGlobal Drilling and Well Engineering Technical Community Leader\\u003c/li\\u003e\\u003cli\\u003eLead Sr. Reservoir Engineer - Globa Due-Diligence, Asset Screening/Evaluation Hub\\u003c/li\\u003e\\u003cli\\u003eInternship\\u003c/li\\u003e\\u003cli\\u003eMontpellier Technology Center (MpTC) Manager\\u003c/li\\u003e\\u003cli\\u003eSenior Account Manager\\u003c/li\\u003e\\u003cli\\u003eWell Placement Engineer\\u003c/li\\u003e\\u003cli\\u003eGlobal Digital Commercial Manager \\u003c/li\\u003e\\u003cli\\u003ePortfolio Manager, Flow Assurance\\u003c/li\\u003e\\u003cli\\u003eIndependent Director\\u003c/li\\u003e\\u003cli\\u003eSenior Production Engineer\\u003c/li\\u003e\\u003cli\\u003eCompletions Field Engineer\\u003c/li\\u003e\\u003cli\\u003eWell construction Fluids Field Engineer Trainee\\u003c/li\\u003e\\u003cli\\u003eRemote Operations Lead\\u003c/li\\u003e\\u003c/ul\\u003e\"}, {\"color\": \"#3449eb\", \"font\": {\"color\": \"white\"}, \"id\": \"Shell\", \"label\": \"Shell\", \"shape\": \"dot\", \"size\": 60, \"title\": \"\\u003cb\\u003eShell\\u003c/b\\u003e \\u2013 30\\u003cul\\u003e\\u003cli\\u003eBusiness Development Associate\\u003c/li\\u003e\\u003cli\\u003eReservoir Engineer\\u003c/li\\u003e\\u003cli\\u003eIngeniero de Producci\\u00f3n Sr.\\u003c/li\\u003e\\u003cli\\u003eField General Manager - BAPETCO (Shell JV)\\u003c/li\\u003e\\u003cli\\u003eUK Country Chair\\u003c/li\\u003e\\u003cli\\u003ePetrophysicist\\u003c/li\\u003e\\u003cli\\u003eSenior Well Engineer\\u003c/li\\u003e\\u003cli\\u003eWells Engineering Intern\\u003c/li\\u003e\\u003cli\\u003eSenior Production Geoscientist\\u003c/li\\u003e\\u003cli\\u003eProcess Safety Engineer\\u003c/li\\u003e\\u003cli\\u003eSnr Well Engineer, Shallow Water Theme Office (C\\u0026WI)\\u003c/li\\u003e\\u003cli\\u003eSenior Data Scientist\\u003c/li\\u003e\\u003cli\\u003eProduction Geology Modeling Advisor\\u003c/li\\u003e\\u003cli\\u003eTechnical Specialist\\u003c/li\\u003e\\u003cli\\u003eSenior Data Scientist - Shell Energy and Chemical park\\u003c/li\\u003e\\u003cli\\u003eGeoscientist | Python Developer\\u003c/li\\u003e\\u003cli\\u003eContract Manager\\u003c/li\\u003e\\u003cli\\u003eLearning Manager - Wells\\u003c/li\\u003e\\u003cli\\u003eSenior Reservoir Engineer\\u003c/li\\u003e\\u003cli\\u003eOperations Engineer\\u003c/li\\u003e\\u003cli\\u003eVP Gas Processing, Conversion and Power Technology\\u003c/li\\u003e\\u003cli\\u003eProject Manager\\u003c/li\\u003e\\u003cli\\u003eCWI Engineer (Workover/Rigless Intervention Engineer)\\u003c/li\\u003e\\u003cli\\u003ePricipal Petrophysicist Shell TA2 ETSA Kuwait\\u003c/li\\u003e\\u003cli\\u003eRenewable Energies Data Scientist\\u003c/li\\u003e\\u003cli\\u003eOffshore \\u0026 Onshore Assets Manager \\u003c/li\\u003e\\u003cli\\u003eWorkover Supervisor\\u003c/li\\u003e\\u003cli\\u003eProduction Technologist\\u003c/li\\u003e\\u003c/ul\\u003e\"}, {\"color\": \"#3449eb\", \"font\": {\"color\": \"white\"}, \"id\": \"University of Aberdeen\", \"label\": \"University of Aberdeen\", \"shape\": \"dot\", \"size\": 40, \"title\": \"\\u003cb\\u003eUniversity of Aberdeen\\u003c/b\\u003e \\u2013 20\\u003cul\\u003e\\u003cli\\u003eStudent Demonstrator\\u003c/li\\u003e\\u003cli\\u003eSenior Lecturer and MSc Petroleum Engineering Programme Coordinator\\u003c/li\\u003e\\u003cli\\u003ePetroleum Engineer\\u003c/li\\u003e\\u003cli\\u003eMSc Student\\u003c/li\\u003e\\u003cli\\u003eLecturer in Petroleum Engineering; Deputy programme Coordinator - MSc Decommissioning Programme\\u003c/li\\u003e\\u003cli\\u003eDoctoral Researcher\\u003c/li\\u003e\\u003cli\\u003eLecturer in Law (Energy and Natural Resources )\\u003c/li\\u003e\\u003cli\\u003eLecturer of Petroleum Engineering\\u003c/li\\u003e\\u003cli\\u003eStudent\\u003c/li\\u003e\\u003cli\\u003eLecturer (Petroleum Engineering)\\u003c/li\\u003e\\u003cli\\u003eAssociate Professor (Senior Lecturer)\\u003c/li\\u003e\\u003cli\\u003eBiomedical PhD Researcher\\u003c/li\\u003e\\u003cli\\u003eSenior Lecturer\\u003c/li\\u003e\\u003cli\\u003eCareer Advisor\\u003c/li\\u003e\\u003cli\\u003eHonorary Teaching Fellow in the School of Engineering\\u003c/li\\u003e\\u003cli\\u003eLecturer\\u003c/li\\u003e\\u003cli\\u003eTeaching Assistant in Marketing and Management\\u003c/li\\u003e\\u003cli\\u003ePostdoctoral Researcher\\u003c/li\\u003e\\u003cli\\u003ePhD Candidate\\u003c/li\\u003e\\u003c/ul\\u003e\"}, {\"color\": \"#3449eb\", \"font\": {\"color\": \"white\"}, \"id\": \"Khalda Petroleum Company (Apache)\", \"label\": \"Khalda Petroleum Company (Apache)\", \"shape\": \"dot\", \"size\": 32, \"title\": \"\\u003cb\\u003eKhalda Petroleum Company (Apache)\\u003c/b\\u003e \\u2013 16\\u003cul\\u003e\\u003cli\\u003ePetroleum Engineer\\u003c/li\\u003e\\u003cli\\u003eOil Process Engineer\\u003c/li\\u003e\\u003cli\\u003eProcess Engineer\\u003c/li\\u003e\\u003cli\\u003eCompletion and Well intervention Engineer\\u003c/li\\u003e\\u003cli\\u003eWorkover, Well services and Rigless Engineer\\u003c/li\\u003e\\u003cli\\u003eSenior Petroleum Engineer\\u003c/li\\u003e\\u003cli\\u003eSummer Intern\\u003c/li\\u003e\\u003cli\\u003eWorkover Rig Supervisor \\u003c/li\\u003e\\u003cli\\u003eDrilling Supervisor\\u003c/li\\u003e\\u003cli\\u003eTrainee\\u003c/li\\u003e\\u003cli\\u003eSummer Trainee\\u003c/li\\u003e\\u003cli\\u003eHSE Engineer\\u003c/li\\u003e\\u003cli\\u003ePetroleum Production Engineer \\u003c/li\\u003e\\u003cli\\u003eProduction technology Engineer \\u003c/li\\u003e\\u003cli\\u003eDrilling / Workover Rig Supervisor\\u003c/li\\u003e\\u003c/ul\\u003e\"}, {\"color\": \"#3449eb\", \"font\": {\"color\": \"white\"}, \"id\": \"GUPCO\", \"label\": \"GUPCO\", \"shape\": \"dot\", \"size\": 30, \"title\": \"\\u003cb\\u003eGUPCO\\u003c/b\\u003e \\u2013 15\\u003cul\\u003e\\u003cli\\u003eReservoir Engineer\\u003c/li\\u003e\\u003cli\\u003eInternship\\u003c/li\\u003e\\u003cli\\u003eSenior Drilling Contracts Engineer \\u003c/li\\u003e\\u003cli\\u003ePetroleum Engineer\\u003c/li\\u003e\\u003cli\\u003eProcess Engineer\\u003c/li\\u003e\\u003cli\\u003eDrilling Engineer\\u003c/li\\u003e\\u003cli\\u003eEngineer\\u003c/li\\u003e\\u003cli\\u003eSenior Petroleum Engineer\\u003c/li\\u003e\\u003cli\\u003ewell site supervisor\\u003c/li\\u003e\\u003cli\\u003eWell Integrity Management Engineer\\u003c/li\\u003e\\u003cli\\u003eDept.Head\\u003c/li\\u003e\\u003cli\\u003eTurnaround Engineer\\u003c/li\\u003e\\u003c/ul\\u003e\"}, {\"color\": \"#3449eb\", \"font\": {\"color\": \"white\"}, \"id\": \"ADNOC Group\", \"label\": \"ADNOC Group\", \"shape\": \"dot\", \"size\": 26, \"title\": \"\\u003cb\\u003eADNOC Group\\u003c/b\\u003e \\u2013 13\\u003cul\\u003e\\u003cli\\u003eWell Integrity Engineering Specialist || Well Examiner\\u003c/li\\u003e\\u003cli\\u003eGeomodelling Specialist Technical Centre\\u003c/li\\u003e\\u003cli\\u003eIDS Engineer\\u003c/li\\u003e\\u003cli\\u003eFlow Assurance, Production Optimization\\u003c/li\\u003e\\u003cli\\u003eProduction Engineer/ Rigless Sec.\\u003c/li\\u003e\\u003cli\\u003eWell integrity\\u003c/li\\u003e\\u003cli\\u003eFrac and completion supervisor\\u003c/li\\u003e\\u003cli\\u003eMud engineer\\u003c/li\\u003e\\u003cli\\u003eSenior Drilling Supervisor\\u003c/li\\u003e\\u003cli\\u003eAssistant Rig Manager\\u003c/li\\u003e\\u003cli\\u003eWell Operations- Island \\u003c/li\\u003e\\u003cli\\u003eAssistant Talent Acquisition\\u003c/li\\u003e\\u003cli\\u003eGeology Team Leader\\u003c/li\\u003e\\u003c/ul\\u003e\"}, {\"color\": \"#3449eb\", \"font\": {\"color\": \"white\"}, \"id\": \"Wood Mackenzie\", \"label\": \"Wood Mackenzie\", \"shape\": \"dot\", \"size\": 26, \"title\": \"\\u003cb\\u003eWood Mackenzie\\u003c/b\\u003e \\u2013 13\\u003cul\\u003e\\u003cli\\u003eNew Client Development Manager, Middle East \\u0026 Africa\\u003c/li\\u003e\\u003cli\\u003eHead Of Downstream Consulting - EMEARC\\u003c/li\\u003e\\u003cli\\u003eSenior Account Manager - Sub Saharan Africa\\u003c/li\\u003e\\u003cli\\u003eGGM NG and GGT NG Commercial Lead\\u003c/li\\u003e\\u003cli\\u003eChairman and Chief Analyst\\u003c/li\\u003e\\u003cli\\u003eUpstream Research Analyst\\u003c/li\\u003e\\u003cli\\u003eChief Data Officer\\u003c/li\\u003e\\u003cli\\u003eLead Specialist Client Solutions (EMEARC)\\u003c/li\\u003e\\u003cli\\u003eAssociated / Contract Consultant\\u003c/li\\u003e\\u003cli\\u003eVP, Global Gas and LNG Research\\u003c/li\\u003e\\u003cli\\u003eLead, Customer Engagement (Strategic Accounts), Asia Pacific\\u003c/li\\u003e\\u003cli\\u003eSenior Business Development Manager\\u003c/li\\u003e\\u003cli\\u003eHR Operations Advisor\\u003c/li\\u003e\\u003c/ul\\u003e\"}, {\"color\": \"#3449eb\", \"font\": {\"color\": \"white\"}, \"id\": \"Belayiem  petroleum company - Petrobel\", \"label\": \"Belayiem  petroleum company - Petrobel\", \"shape\": \"dot\", \"size\": 24, \"title\": \"\\u003cb\\u003eBelayiem  petroleum company - Petrobel\\u003c/b\\u003e \\u2013 12\\u003cul\\u003e\\u003cli\\u003eZohr Onshore Production Engineer\\u003c/li\\u003e\\u003cli\\u003eProduction Department Manager/Process Safety Engineer\\u003c/li\\u003e\\u003cli\\u003eDrilling \\u0026 Workover Supervisor\\u003c/li\\u003e\\u003cli\\u003eSite Manager\\u003c/li\\u003e\\u003cli\\u003eon-shore production and process engineer\\u003c/li\\u003e\\u003cli\\u003ePetroleum Process Engineer\\u003c/li\\u003e\\u003cli\\u003eWellsite Geologist\\u003c/li\\u003e\\u003cli\\u003eGas Production Engineer\\u003c/li\\u003e\\u003cli\\u003eDrilling \\u0026 Workover Rig Supervisor\\u003c/li\\u003e\\u003cli\\u003eProduction Engineer\\u003c/li\\u003e\\u003cli\\u003eOperation Engineer\\u003c/li\\u003e\\u003c/ul\\u003e\"}, {\"color\": \"#3449eb\", \"font\": {\"color\": \"white\"}, \"id\": \"bp\", \"label\": \"bp\", \"shape\": \"dot\", \"size\": 24, \"title\": \"\\u003cb\\u003ebp\\u003c/b\\u003e \\u2013 12\\u003cul\\u003e\\u003cli\\u003eTechnical Business Analyst / Reservoir Engineer\\u003c/li\\u003e\\u003cli\\u003egas \\u0026 power shift operator\\u003c/li\\u003e\\u003cli\\u003eGeologist Challenger\\u003c/li\\u003e\\u003cli\\u003eEarly Careers Senior Advisor\\u003c/li\\u003e\\u003cli\\u003eESG Director, Strategy \\u0026 Sustainability\\u003c/li\\u003e\\u003cli\\u003eNWD Geoscientist \\u003c/li\\u003e\\u003cli\\u003eGlobal Head of Talent Acquisition\\u003c/li\\u003e\\u003cli\\u003eTalent Sourcing \\u0026 Market Intelligence Lead Advisor\\u003c/li\\u003e\\u003cli\\u003eCorporate Support AU SME\\u003c/li\\u003e\\u003cli\\u003eTalent Attraction Senior Advisor\\u003c/li\\u003e\\u003cli\\u003eCompletion Engineer\\u003c/li\\u003e\\u003c/ul\\u003e\"}, {\"color\": \"#3449eb\", \"font\": {\"color\": \"white\"}, \"id\": \"IHS Markit\", \"label\": \"IHS Markit\", \"shape\": \"dot\", \"size\": 24, \"title\": \"\\u003cb\\u003eIHS Markit\\u003c/b\\u003e \\u2013 12\\u003cul\\u003e\\u003cli\\u003eSenior Rigs Analyst\\u003c/li\\u003e\\u003cli\\u003eResearch Director\\u003c/li\\u003e\\u003cli\\u003eDirector \\u2013 Energy and Natural Resources - MiddleEast\\u003c/li\\u003e\\u003cli\\u003eAssociate Director, Research \\u0026 Analysis\\u003c/li\\u003e\\u003cli\\u003eManager | Customer Solutions - Energy \\u0026 Natural Resources | Middle East \\u0026 Africa\\u003c/li\\u003e\\u003cli\\u003eDirector, Technical Advisors, Global Sales\\u003c/li\\u003e\\u003cli\\u003eSr Data Transformation Analyst I\\u003c/li\\u003e\\u003cli\\u003eAssociate Director, Offshore Rigs\\u003c/li\\u003e\\u003cli\\u003eSenior Analyst I\\u003c/li\\u003e\\u003cli\\u003eSenior Analyst - Offshore Drilling Rigs\\u003c/li\\u003e\\u003cli\\u003eHead of Talent Acquisition, EMEA\\u003c/li\\u003e\\u003cli\\u003eSenior Director\\u003c/li\\u003e\\u003c/ul\\u003e\"}, {\"color\": \"#3449eb\", \"font\": {\"color\": \"white\"}, \"id\": \"Baker Hughes\", \"label\": \"Baker Hughes\", \"shape\": \"dot\", \"size\": 24, \"title\": \"\\u003cb\\u003eBaker Hughes\\u003c/b\\u003e \\u2013 12\\u003cul\\u003e\\u003cli\\u003eSubsea Engineer - MENAT\\u003c/li\\u003e\\u003cli\\u003eInternship\\u003c/li\\u003e\\u003cli\\u003eSales \\u0026 Technical Representative of HPP\\u003c/li\\u003e\\u003cli\\u003eMaterials Manager\\u003c/li\\u003e\\u003cli\\u003eSubsea Controls engineer\\u003c/li\\u003e\\u003cli\\u003eField Service Specialist III Completion and Wellbore Intervention\\u003c/li\\u003e\\u003cli\\u003eVice President \\u2013 Energy Transition\\u003c/li\\u003e\\u003cli\\u003eMaintenance Engineer\\u003c/li\\u003e\\u003cli\\u003eSenior Talent Acquisition Specialist- MENAT, India, North Africa and Turkey\\u003c/li\\u003e\\u003cli\\u003eField Specialist\\u003c/li\\u003e\\u003cli\\u003eLNG Market Leader, Americas\\u003c/li\\u003e\\u003c/ul\\u003e\"}, {\"color\": \"#3449eb\", \"font\": {\"color\": \"white\"}, \"id\": \"Halliburton\", \"label\": \"Halliburton\", \"shape\": \"dot\", \"size\": 22, \"title\": \"\\u003cb\\u003eHalliburton\\u003c/b\\u003e \\u2013 11\\u003cul\\u003e\\u003cli\\u003eField Engineer - Liner hanger systems / Completion tools\\u003c/li\\u003e\\u003cli\\u003eTechnical Sales Consultant\\u003c/li\\u003e\\u003cli\\u003eWireline and Perforation Field Engineer - Maternity Leave\\u003c/li\\u003e\\u003cli\\u003eSenior Drilling Supervisor\\u003c/li\\u003e\\u003cli\\u003eWireline Logging Field Professional\\u003c/li\\u003e\\u003cli\\u003eMud logger\\u003c/li\\u003e\\u003cli\\u003eField Professional, M/LWD Engineer\\u003c/li\\u003e\\u003cli\\u003eSenior Data Engineer (Unit Manager)\\u003c/li\\u003e\\u003cli\\u003eSr. Technical Professional\\u003c/li\\u003e\\u003cli\\u003eAccount Representative\\u003c/li\\u003e\\u003cli\\u003e Deep water cementer\\u003c/li\\u003e\\u003c/ul\\u003e\"}, {\"color\": \"#3449eb\", \"font\": {\"color\": \"white\"}, \"id\": \"International Energy Agency (IEA)\", \"label\": \"International Energy Agency (IEA)\", \"shape\": \"dot\", \"size\": 18, \"title\": \"\\u003cb\\u003eInternational Energy Agency (IEA)\\u003c/b\\u003e \\u2013 9\\u003cul\\u003e\\u003cli\\u003eSpecial Advisor to the IEA Executive Director\\u003c/li\\u003e\\u003cli\\u003eHead of CCUS\\u003c/li\\u003e\\u003cli\\u003eEnergy and Policy Analyst, Policy and Security Division\\u003c/li\\u003e\\u003cli\\u003eChief Energy Economist\\u003c/li\\u003e\\u003cli\\u003eChief Counsellor - Transitions and Partnerships\\u003c/li\\u003e\\u003cli\\u003eHead of the Oil Industry and Markets Division\\u003c/li\\u003e\\u003cli\\u003eGas Analyst\\u003c/li\\u003e\\u003cli\\u003eSenior Natural Gas Analyst\\u003c/li\\u003e\\u003cli\\u003eConsultant\\u003c/li\\u003e\\u003c/ul\\u003e\"}, {\"color\": \"#3449eb\", \"font\": {\"color\": \"white\"}, \"id\": \"Freelance\", \"label\": \"Freelance\", \"shape\": \"dot\", \"size\": 18, \"title\": \"\\u003cb\\u003eFreelance\\u003c/b\\u003e \\u2013 9\\u003cul\\u003e\\u003cli\\u003eFreelance Marketing Consultant\\u003c/li\\u003e\\u003cli\\u003eEnergy writer\\u003c/li\\u003e\\u003cli\\u003eContent Creator\\u003c/li\\u003e\\u003cli\\u003eFreelance Engineer\\u003c/li\\u003e\\u003cli\\u003eFull stack web developer\\u003c/li\\u003e\\u003cli\\u003eJournalist\\u003c/li\\u003e\\u003cli\\u003eSelf Employed\\u003c/li\\u003e\\u003cli\\u003eSenior Operations Manager\\u003c/li\\u003e\\u003cli\\u003eYoga Teacher\\u003c/li\\u003e\\u003c/ul\\u003e\"}, {\"color\": \"#3449eb\", \"font\": {\"color\": \"white\"}, \"id\": \"ADES - Advanced Energy Systems\", \"label\": \"ADES - Advanced Energy Systems\", \"shape\": \"dot\", \"size\": 14, \"title\": \"\\u003cb\\u003eADES - Advanced Energy Systems\\u003c/b\\u003e \\u2013 7\\u003cul\\u003e\\u003cli\\u003ePetroleum Engineer - Graduate Training Program \\\"GTP\\\"\\u003c/li\\u003e\\u003cli\\u003eKey Account Expert - North Africa \\u0026 Kuwait \\u003c/li\\u003e\\u003cli\\u003eMaintenance intern\\u003c/li\\u003e\\u003cli\\u003eRSTC/HSE Engineer at ADES-Advanced Energy System \\u003c/li\\u003e\\u003cli\\u003ePetroleum Engineer -Graduate Training Program- \\u003c/li\\u003e\\u003cli\\u003eHealth Safety Environment Coordinator\\u003c/li\\u003e\\u003cli\\u003eBusiness Development Engineer - Drilling Services\\u003c/li\\u003e\\u003c/ul\\u003e\"}, {\"color\": \"#3449eb\", \"font\": {\"color\": \"white\"}, \"id\": \"Gas Exporting Countries Forum\", \"label\": \"Gas Exporting Countries Forum\", \"shape\": \"dot\", \"size\": 12, \"title\": \"\\u003cb\\u003eGas Exporting Countries Forum\\u003c/b\\u003e \\u2013 6\\u003cul\\u003e\\u003cli\\u003eGas Market Analyst\\u003c/li\\u003e\\u003cli\\u003eResearch Assistant\\u003c/li\\u003e\\u003cli\\u003eEnergy, Environment \\u0026 Policy Analyst\\u003c/li\\u003e\\u003cli\\u003eSenior Gas Market Analyst within the Short Term Department \\u003c/li\\u003e\\u003cli\\u003eInternal Audit - Head of Unit\\u003c/li\\u003e\\u003cli\\u003eData Bank Analyst\\u003c/li\\u003e\\u003c/ul\\u003e\"}, {\"color\": \"#3449eb\", \"font\": {\"color\": \"white\"}, \"id\": \"Petroleum Today Magazine\", \"label\": \"Petroleum Today Magazine\", \"shape\": \"dot\", \"size\": 12, \"title\": \"\\u003cb\\u003ePetroleum Today Magazine\\u003c/b\\u003e \\u2013 6\\u003cul\\u003e\\u003cli\\u003eSales And Marketing Specialist\\u003c/li\\u003e\\u003cli\\u003eCEO and Founder\\u003c/li\\u003e\\u003cli\\u003eMarketing Executive\\u003c/li\\u003e\\u003cli\\u003eEmarketing Manager\\u003c/li\\u003e\\u003cli\\u003eSecretary\\u003c/li\\u003e\\u003c/ul\\u003e\"}, {\"color\": \"#3449eb\", \"font\": {\"color\": \"white\"}, \"id\": \"Oxford Institute for Energy Studies\", \"label\": \"Oxford Institute for Energy Studies\", \"shape\": \"dot\", \"size\": 12, \"title\": \"\\u003cb\\u003eOxford Institute for Energy Studies\\u003c/b\\u003e \\u2013 6\\u003cul\\u003e\\u003cli\\u003eDirector, Energy Transition Research\\u003c/li\\u003e\\u003cli\\u003eAdministrator\\u003c/li\\u003e\\u003cli\\u003eSenior Research Fellow\\u003c/li\\u003e\\u003cli\\u003eDirector, China Energy Programme\\u003c/li\\u003e\\u003cli\\u003eVisiting Research Fellow\\u003c/li\\u003e\\u003c/ul\\u003e\"}, {\"color\": \"#3449eb\", \"font\": {\"color\": \"white\"}, \"id\": \"Rystad Energy\", \"label\": \"Rystad Energy\", \"shape\": \"dot\", \"size\": 12, \"title\": \"\\u003cb\\u003eRystad Energy\\u003c/b\\u003e \\u2013 6\\u003cul\\u003e\\u003cli\\u003eSenior Analyst\\u003c/li\\u003e\\u003cli\\u003eClient Analyst\\u003c/li\\u003e\\u003cli\\u003eProduct Manager_Exploration\\u003c/li\\u003e\\u003cli\\u003eSenior Analyst, Product Manager - Emerging Services\\u003c/li\\u003e\\u003cli\\u003eProduct Manager - Emission Solutions\\u003c/li\\u003e\\u003cli\\u003eOffice Manager\\u003c/li\\u003e\\u003c/ul\\u003e\"}, {\"color\": \"#3449eb\", \"font\": {\"color\": \"white\"}, \"id\": \"PETRONAS\", \"label\": \"PETRONAS\", \"shape\": \"dot\", \"size\": 12, \"title\": \"\\u003cb\\u003ePETRONAS\\u003c/b\\u003e \\u2013 6\\u003cul\\u003e\\u003cli\\u003eReservoir Engineer\\u003c/li\\u003e\\u003cli\\u003eChief Technical Officer \\u0026 Custodian- Reservoir Engineering/PETRONAS\\u003c/li\\u003e\\u003cli\\u003eHead of Data Science\\u003c/li\\u003e\\u003cli\\u003eIntern\\u003c/li\\u003e\\u003cli\\u003eDigital Strategy, Group Digital\\u003c/li\\u003e\\u003cli\\u003eManager Program Development (Wells, Production)  Upstream Digital\\u003c/li\\u003e\\u003c/ul\\u003e\"}, {\"color\": \"#3449eb\", \"font\": {\"color\": \"white\"}, \"id\": \"Society of Petroleum Engineers (SPE) Suez University Student Chapter\", \"label\": \"Society of Petroleum Engineers (SPE) Suez University Student Chapter\", \"shape\": \"dot\", \"size\": 12, \"title\": \"\\u003cb\\u003eSociety of Petroleum Engineers (SPE) Suez University Student Chapter\\u003c/b\\u003e \\u2013 6\\u003cul\\u003e\\u003cli\\u003ePresident\\u003c/li\\u003e\\u003cli\\u003ehr member\\u003c/li\\u003e\\u003cli\\u003eBusiness Development Member\\u003c/li\\u003e\\u003cli\\u003eMultimedia Trainer at SPE\\u003c/li\\u003e\\u003cli\\u003eBusiness Development\\u003c/li\\u003e\\u003cli\\u003eBusiness Development Head\\u003c/li\\u003e\\u003c/ul\\u003e\"}, {\"color\": \"#3449eb\", \"font\": {\"color\": \"white\"}, \"id\": \"General Petroleum Company (GPC)\", \"label\": \"General Petroleum Company (GPC)\", \"shape\": \"dot\", \"size\": 12, \"title\": \"\\u003cb\\u003eGeneral Petroleum Company (GPC)\\u003c/b\\u003e \\u2013 6\\u003cul\\u003e\\u003cli\\u003eReservoir Engineer\\u003c/li\\u003e\\u003cli\\u003eReservoir Engineering Team Leader \\u003c/li\\u003e\\u003cli\\u003eProcess Engineer\\u003c/li\\u003e\\u003cli\\u003eExcellent Accountant\\u003c/li\\u003e\\u003cli\\u003eSenior Petroleum Engineer\\u003c/li\\u003e\\u003cli\\u003e Workover, Completions and Well intervention supervisor\\u003c/li\\u003e\\u003c/ul\\u003e\"}, {\"color\": \"#3449eb\", \"font\": {\"color\": \"white\"}, \"id\": \"ExxonMobil\", \"label\": \"ExxonMobil\", \"shape\": \"dot\", \"size\": 10, \"title\": \"\\u003cb\\u003eExxonMobil\\u003c/b\\u003e \\u2013 5\\u003cul\\u003e\\u003cli\\u003eReservoir Engineer\\u003c/li\\u003e\\u003cli\\u003eVice President Marketing, Finance \\u0026 Commercial Development, Asia Pacific, Low Carbon Solutions\\u003c/li\\u003e\\u003cli\\u003eCommercial Manager, ExxonMobil Gas Marketing Europe Limited\\u003c/li\\u003e\\u003cli\\u003eProcess Control Application Engineer\\u003c/li\\u003e\\u003cli\\u003eDemurrage Analyst\\u003c/li\\u003e\\u003c/ul\\u003e\"}, {\"color\": \"#3449eb\", \"font\": {\"color\": \"white\"}, \"id\": \"S\\u0026P Global Platts\", \"label\": \"S\\u0026P Global Platts\", \"shape\": \"dot\", \"size\": 10, \"title\": \"\\u003cb\\u003eS\\u0026P Global Platts\\u003c/b\\u003e \\u2013 5\\u003cul\\u003e\\u003cli\\u003eGlobal Director - Growth \\u0026 Customer Insights\\u003c/li\\u003e\\u003cli\\u003eGas analyst\\u003c/li\\u003e\\u003cli\\u003eLNG Analyst\\u003c/li\\u003e\\u003cli\\u003eManager, Asia Oil Analytics\\u003c/li\\u003e\\u003cli\\u003eGas Analyst\\u003c/li\\u003e\\u003c/ul\\u003e\"}, {\"color\": \"#3449eb\", \"font\": {\"color\": \"white\"}, \"id\": \"Refinitiv, an LSEG business\", \"label\": \"Refinitiv, an LSEG business\", \"shape\": \"dot\", \"size\": 10, \"title\": \"\\u003cb\\u003eRefinitiv, an LSEG business\\u003c/b\\u003e \\u2013 5\\u003cul\\u003e\\u003cli\\u003eProduct Manager, Commodities\\u003c/li\\u003e\\u003cli\\u003eLead Analyst, Natural Gas market\\u003c/li\\u003e\\u003cli\\u003eSenior LNG Analyst\\u003c/li\\u003e\\u003cli\\u003eSenior Customer Success Manager\\u003c/li\\u003e\\u003cli\\u003eLead Analyst\\u003c/li\\u003e\\u003c/ul\\u003e\"}, {\"color\": \"#3449eb\", \"font\": {\"color\": \"white\"}, \"id\": \"Qarun Petroleum Company SAE (QPC)\", \"label\": \"Qarun Petroleum Company SAE (QPC)\", \"shape\": \"dot\", \"size\": 10, \"title\": \"\\u003cb\\u003eQarun Petroleum Company SAE (QPC)\\u003c/b\\u003e \\u2013 5\\u003cul\\u003e\\u003cli\\u003eDepartment Head for Well Subsurface Operations\\u003c/li\\u003e\\u003cli\\u003eESP Engineer\\u003c/li\\u003e\\u003cli\\u003ePetroleum Engineer\\u003c/li\\u003e\\u003cli\\u003eSection Head in Drilling Department\\u003c/li\\u003e\\u003c/ul\\u003e\"}, {\"color\": \"#3449eb\", \"font\": {\"color\": \"white\"}, \"id\": \"Galaxy Surfactants Limited\", \"label\": \"Galaxy Surfactants Limited\", \"shape\": \"dot\", \"size\": 10, \"title\": \"\\u003cb\\u003eGalaxy Surfactants Limited\\u003c/b\\u003e \\u2013 5\\u003cul\\u003e\\u003cli\\u003eChemical Production Engineer \\u003c/li\\u003e\\u003cli\\u003eHuman Resources Officer\\u003c/li\\u003e\\u003cli\\u003eChemical Engineer\\u003c/li\\u003e\\u003cli\\u003eProduction Chemical Engineer\\u003c/li\\u003e\\u003cli\\u003eProduction Engineer\\u003c/li\\u003e\\u003c/ul\\u003e\"}, {\"color\": \"#3449eb\", \"font\": {\"color\": \"white\"}, \"id\": \"KAPSARC\", \"label\": \"KAPSARC\", \"shape\": \"dot\", \"size\": 10, \"title\": \"\\u003cb\\u003eKAPSARC\\u003c/b\\u003e \\u2013 5\\u003cul\\u003e\\u003cli\\u003eOil Market Research Fellow I\\u003c/li\\u003e\\u003cli\\u003eSenior Advisor to the Board\\u003c/li\\u003e\\u003cli\\u003eSenior Climate Advisor\\u003c/li\\u003e\\u003cli\\u003eSenior Research Fellow\\u003c/li\\u003e\\u003cli\\u003eResearch Fellow III\\u003c/li\\u003e\\u003c/ul\\u003e\"}, {\"color\": \"#3449eb\", \"font\": {\"color\": \"white\"}, \"id\": \"BP\", \"label\": \"BP\", \"shape\": \"dot\", \"size\": 10, \"title\": \"\\u003cb\\u003eBP\\u003c/b\\u003e \\u2013 5\\u003cul\\u003e\\u003cli\\u003ePetroleum Engineer\\u003c/li\\u003e\\u003cli\\u003eWell Completion Engineer for MODU and Platform - Low Carbon Champion\\u003c/li\\u003e\\u003cli\\u003eDrilling Engineer\\u003c/li\\u003e\\u003cli\\u003eSenior Petroleum Engineer\\u003c/li\\u003e\\u003cli\\u003eNatural Gas Marketing Manager, Caspian Region\\u003c/li\\u003e\\u003c/ul\\u003e\"}, {\"color\": \"#3449eb\", \"font\": {\"color\": \"white\"}, \"id\": \"dmg events\", \"label\": \"dmg events\", \"shape\": \"dot\", \"size\": 10, \"title\": \"\\u003cb\\u003edmg events\\u003c/b\\u003e \\u2013 5\\u003cul\\u003e\\u003cli\\u003eHead of Marketing LNG \\u0026 Gas \\u0026 Africa Division\\u003c/li\\u003e\\u003cli\\u003eVice President Energy\\u003c/li\\u003e\\u003cli\\u003eConference Manager\\u003c/li\\u003e\\u003cli\\u003eCommercial Project Manager\\u003c/li\\u003e\\u003cli\\u003eSenior Conference Manager\\u003c/li\\u003e\\u003c/ul\\u003e\"}, {\"color\": \"#3449eb\", \"font\": {\"color\": \"white\"}, \"id\": \"Microsoft\", \"label\": \"Microsoft\", \"shape\": \"dot\", \"size\": 10, \"title\": \"\\u003cb\\u003eMicrosoft\\u003c/b\\u003e \\u2013 5\\u003cul\\u003e\\u003cli\\u003eSoftware Engineer 2\\u003c/li\\u003e\\u003cli\\u003eSenior Director, Sustainability Policy\\u003c/li\\u003e\\u003cli\\u003eCorporate Vice President Energy Industry\\u003c/li\\u003e\\u003cli\\u003eGlobal General Manager, Talent \\u0026 Learning Experiences and Workforce of the Futu\\u003c/li\\u003e\\u003cli\\u003eAzure Big Data Engineer \\u003c/li\\u003e\\u003c/ul\\u003e\"}]);\n",
       "        edges = new vis.DataSet([{\"color\": \"grey\", \"from\": \"root\", \"to\": \"Bapetco\", \"weight\": 1}, {\"color\": \"grey\", \"from\": \"root\", \"to\": \"Schlumberger\", \"weight\": 1}, {\"color\": \"grey\", \"from\": \"root\", \"to\": \"Shell\", \"weight\": 1}, {\"color\": \"grey\", \"from\": \"root\", \"to\": \"University of Aberdeen\", \"weight\": 1}, {\"color\": \"grey\", \"from\": \"root\", \"to\": \"Khalda Petroleum Company (Apache)\", \"weight\": 1}, {\"color\": \"grey\", \"from\": \"root\", \"to\": \"GUPCO\", \"weight\": 1}, {\"color\": \"grey\", \"from\": \"root\", \"to\": \"ADNOC Group\", \"weight\": 1}, {\"color\": \"grey\", \"from\": \"root\", \"to\": \"Wood Mackenzie\", \"weight\": 1}, {\"color\": \"grey\", \"from\": \"root\", \"to\": \"Belayiem  petroleum company - Petrobel\", \"weight\": 1}, {\"color\": \"grey\", \"from\": \"root\", \"to\": \"bp\", \"weight\": 1}, {\"color\": \"grey\", \"from\": \"root\", \"to\": \"IHS Markit\", \"weight\": 1}, {\"color\": \"grey\", \"from\": \"root\", \"to\": \"Baker Hughes\", \"weight\": 1}, {\"color\": \"grey\", \"from\": \"root\", \"to\": \"Halliburton\", \"weight\": 1}, {\"color\": \"grey\", \"from\": \"root\", \"to\": \"International Energy Agency (IEA)\", \"weight\": 1}, {\"color\": \"grey\", \"from\": \"root\", \"to\": \"Freelance\", \"weight\": 1}, {\"color\": \"grey\", \"from\": \"root\", \"to\": \"ADES - Advanced Energy Systems\", \"weight\": 1}, {\"color\": \"grey\", \"from\": \"root\", \"to\": \"Gas Exporting Countries Forum\", \"weight\": 1}, {\"color\": \"grey\", \"from\": \"root\", \"to\": \"Petroleum Today Magazine\", \"weight\": 1}, {\"color\": \"grey\", \"from\": \"root\", \"to\": \"Oxford Institute for Energy Studies\", \"weight\": 1}, {\"color\": \"grey\", \"from\": \"root\", \"to\": \"Rystad Energy\", \"weight\": 1}, {\"color\": \"grey\", \"from\": \"root\", \"to\": \"PETRONAS\", \"weight\": 1}, {\"color\": \"grey\", \"from\": \"root\", \"to\": \"Society of Petroleum Engineers (SPE) Suez University Student Chapter\", \"weight\": 1}, {\"color\": \"grey\", \"from\": \"root\", \"to\": \"General Petroleum Company (GPC)\", \"weight\": 1}, {\"color\": \"grey\", \"from\": \"root\", \"to\": \"ExxonMobil\", \"weight\": 1}, {\"color\": \"grey\", \"from\": \"root\", \"to\": \"S\\u0026P Global Platts\", \"weight\": 1}, {\"color\": \"grey\", \"from\": \"root\", \"to\": \"Refinitiv, an LSEG business\", \"weight\": 1}, {\"color\": \"grey\", \"from\": \"root\", \"to\": \"Qarun Petroleum Company SAE (QPC)\", \"weight\": 1}, {\"color\": \"grey\", \"from\": \"root\", \"to\": \"Galaxy Surfactants Limited\", \"weight\": 1}, {\"color\": \"grey\", \"from\": \"root\", \"to\": \"KAPSARC\", \"weight\": 1}, {\"color\": \"grey\", \"from\": \"root\", \"to\": \"BP\", \"weight\": 1}, {\"color\": \"grey\", \"from\": \"root\", \"to\": \"dmg events\", \"weight\": 1}, {\"color\": \"grey\", \"from\": \"root\", \"to\": \"Microsoft\", \"weight\": 1}]);\n",
       "\n",
       "        // adding nodes and edges to the graph\n",
       "        data = {nodes: nodes, edges: edges};\n",
       "\n",
       "        var options = {\n",
       "    \"configure\": {\n",
       "        \"enabled\": false\n",
       "    },\n",
       "    \"edges\": {\n",
       "        \"color\": {\n",
       "            \"inherit\": true\n",
       "        },\n",
       "        \"smooth\": {\n",
       "            \"enabled\": false,\n",
       "            \"type\": \"continuous\"\n",
       "        }\n",
       "    },\n",
       "    \"interaction\": {\n",
       "        \"dragNodes\": true,\n",
       "        \"hideEdgesOnDrag\": false,\n",
       "        \"hideNodesOnDrag\": false\n",
       "    },\n",
       "    \"physics\": {\n",
       "        \"enabled\": true,\n",
       "        \"hierarchicalRepulsion\": {\n",
       "            \"centralGravity\": 0.0,\n",
       "            \"damping\": 0.09,\n",
       "            \"nodeDistance\": 120,\n",
       "            \"springConstant\": 0.01,\n",
       "            \"springLength\": 100\n",
       "        },\n",
       "        \"solver\": \"hierarchicalRepulsion\",\n",
       "        \"stabilization\": {\n",
       "            \"enabled\": true,\n",
       "            \"fit\": true,\n",
       "            \"iterations\": 1000,\n",
       "            \"onlyDynamicEdges\": false,\n",
       "            \"updateInterval\": 50\n",
       "        }\n",
       "    }\n",
       "};\n",
       "        \n",
       "        \n",
       "\n",
       "        \n",
       "\n",
       "        network = new vis.Network(container, data, options);\n",
       "\t \n",
       "        \n",
       "\n",
       "\n",
       "        \n",
       "\n",
       "        return network;\n",
       "\n",
       "    }\n",
       "\n",
       "    drawGraph();\n",
       "\n",
       "</script>\n",
       "</body>\n",
       "</html>"
      ],
      "text/plain": [
       "<IPython.core.display.HTML object>"
      ]
     },
     "metadata": {},
     "output_type": "display_data"
    }
   ],
   "source": [
    "# initialize graph\n",
    "g = nx.Graph()\n",
    "g.add_node('root') # intialize yourself as central\n",
    "\n",
    "# use iterrows tp iterate through the data frame\n",
    "for _, row in df_company_reduced.iterrows():\n",
    "\n",
    "  # store company name and count\n",
    "    company = row['company']\n",
    "    count = row['count']\n",
    "\n",
    "    title = f\"<b>{company}</b> – {count}\"\n",
    "    positions = set([x for x in df[company == df['company']]['position']])\n",
    "    positions = ''.join('<li>{}</li>'.format(x) for x in positions)\n",
    "\n",
    "    position_list = f\"<ul>{positions}</ul>\"\n",
    "    hover_info = title + position_list\n",
    "\n",
    "    g.add_node(company, size=count*2, title=hover_info, color='#3449eb')\n",
    "    g.add_edge('root', company, color='grey')\n",
    "\n",
    "# generate the graph\n",
    "nt = net.Network(height='900px', width='1200px', bgcolor=\"black\", font_color='white')\n",
    "nt.from_nx(g)\n",
    "nt.hrepulsion()\n",
    "# more customization https://tinyurl.com/yf5lvvdm\n",
    "nt.show('company_graph.html')\n",
    "display(HTML('company_graph.html'))"
   ]
  },
  {
   "cell_type": "code",
   "execution_count": 39,
   "metadata": {},
   "outputs": [
    {
     "data": {
      "text/html": [
       "<html>\n",
       "<head>\n",
       "<link rel=\"stylesheet\" href=\"https://cdnjs.cloudflare.com/ajax/libs/vis/4.16.1/vis.css\" type=\"text/css\" />\n",
       "<script type=\"text/javascript\" src=\"https://cdnjs.cloudflare.com/ajax/libs/vis/4.16.1/vis-network.min.js\"> </script>\n",
       "<center>\n",
       "<h1></h1>\n",
       "</center>\n",
       "\n",
       "<!-- <link rel=\"stylesheet\" href=\"../node_modules/vis/dist/vis.min.css\" type=\"text/css\" />\n",
       "<script type=\"text/javascript\" src=\"../node_modules/vis/dist/vis.js\"> </script>-->\n",
       "\n",
       "<style type=\"text/css\">\n",
       "\n",
       "        #mynetwork {\n",
       "            width: 700px;\n",
       "            height: 700px;\n",
       "            background-color: black;\n",
       "            border: 1px solid lightgray;\n",
       "            position: relative;\n",
       "            float: left;\n",
       "        }\n",
       "\n",
       "        \n",
       "\n",
       "        \n",
       "\n",
       "        \n",
       "</style>\n",
       "\n",
       "</head>\n",
       "\n",
       "<body>\n",
       "<div id = \"mynetwork\"></div>\n",
       "\n",
       "\n",
       "<script type=\"text/javascript\">\n",
       "\n",
       "    // initialize global variables.\n",
       "    var edges;\n",
       "    var nodes;\n",
       "    var network; \n",
       "    var container;\n",
       "    var options, data;\n",
       "\n",
       "    \n",
       "    // This method is responsible for drawing the graph, returns the drawn network\n",
       "    function drawGraph() {\n",
       "        var container = document.getElementById('mynetwork');\n",
       "        \n",
       "        \n",
       "\n",
       "        // parsing and collecting nodes and edges from the python\n",
       "        nodes = new vis.DataSet([{\"font\": {\"color\": \"white\"}, \"id\": \"root\", \"label\": \"root\", \"shape\": \"dot\", \"size\": 10}, {\"color\": \"#3449eb\", \"font\": {\"color\": \"white\"}, \"id\": \"Petroleum Engineer\", \"label\": \"Petroleum Engineer\", \"shape\": \"dot\", \"size\": 30, \"title\": \"30\"}, {\"color\": \"#3449eb\", \"font\": {\"color\": \"white\"}, \"id\": \"Reservoir Engineer\", \"label\": \"Reservoir Engineer\", \"shape\": \"dot\", \"size\": 25, \"title\": \"25\"}, {\"color\": \"#3449eb\", \"font\": {\"color\": \"white\"}, \"id\": \"Managing Director\", \"label\": \"Managing Director\", \"shape\": \"dot\", \"size\": 19, \"title\": \"19\"}, {\"color\": \"#3449eb\", \"font\": {\"color\": \"white\"}, \"id\": \"Process Engineer\", \"label\": \"Process Engineer\", \"shape\": \"dot\", \"size\": 17, \"title\": \"17\"}, {\"color\": \"#3449eb\", \"font\": {\"color\": \"white\"}, \"id\": \"Data Scientist\", \"label\": \"Data Scientist\", \"shape\": \"dot\", \"size\": 14, \"title\": \"14\"}, {\"color\": \"#3449eb\", \"font\": {\"color\": \"white\"}, \"id\": \"Chief Executive Officer\", \"label\": \"Chief Executive Officer\", \"shape\": \"dot\", \"size\": 11, \"title\": \"11\"}, {\"color\": \"#3449eb\", \"font\": {\"color\": \"white\"}, \"id\": \"President\", \"label\": \"President\", \"shape\": \"dot\", \"size\": 10, \"title\": \"10\"}, {\"color\": \"#3449eb\", \"font\": {\"color\": \"white\"}, \"id\": \"Director\", \"label\": \"Director\", \"shape\": \"dot\", \"size\": 9, \"title\": \"9\"}, {\"color\": \"#3449eb\", \"font\": {\"color\": \"white\"}, \"id\": \"Project Manager\", \"label\": \"Project Manager\", \"shape\": \"dot\", \"size\": 9, \"title\": \"9\"}, {\"color\": \"#3449eb\", \"font\": {\"color\": \"white\"}, \"id\": \"Drilling Supervisor\", \"label\": \"Drilling Supervisor\", \"shape\": \"dot\", \"size\": 7, \"title\": \"7\"}, {\"color\": \"#3449eb\", \"font\": {\"color\": \"white\"}, \"id\": \"Trainee\", \"label\": \"Trainee\", \"shape\": \"dot\", \"size\": 7, \"title\": \"7\"}, {\"color\": \"#3449eb\", \"font\": {\"color\": \"white\"}, \"id\": \"Senior Reservoir Engineer\", \"label\": \"Senior Reservoir Engineer\", \"shape\": \"dot\", \"size\": 7, \"title\": \"7\"}, {\"color\": \"#3449eb\", \"font\": {\"color\": \"white\"}, \"id\": \"Founder\", \"label\": \"Founder\", \"shape\": \"dot\", \"size\": 7, \"title\": \"7\"}, {\"color\": \"#3449eb\", \"font\": {\"color\": \"white\"}, \"id\": \"Business Development Manager\", \"label\": \"Business Development Manager\", \"shape\": \"dot\", \"size\": 7, \"title\": \"7\"}, {\"color\": \"#3449eb\", \"font\": {\"color\": \"white\"}, \"id\": \"Senior Petroleum Engineer\", \"label\": \"Senior Petroleum Engineer\", \"shape\": \"dot\", \"size\": 7, \"title\": \"7\"}, {\"color\": \"#3449eb\", \"font\": {\"color\": \"white\"}, \"id\": \"Drilling Engineer\", \"label\": \"Drilling Engineer\", \"shape\": \"dot\", \"size\": 6, \"title\": \"6\"}, {\"color\": \"#3449eb\", \"font\": {\"color\": \"white\"}, \"id\": \"Sales Manager\", \"label\": \"Sales Manager\", \"shape\": \"dot\", \"size\": 6, \"title\": \"6\"}, {\"color\": \"#3449eb\", \"font\": {\"color\": \"white\"}, \"id\": \"Associate Professor\", \"label\": \"Associate Professor\", \"shape\": \"dot\", \"size\": 6, \"title\": \"6\"}, {\"color\": \"#3449eb\", \"font\": {\"color\": \"white\"}, \"id\": \"CEO\", \"label\": \"CEO\", \"shape\": \"dot\", \"size\": 6, \"title\": \"6\"}, {\"color\": \"#3449eb\", \"font\": {\"color\": \"white\"}, \"id\": \"Co-Founder\", \"label\": \"Co-Founder\", \"shape\": \"dot\", \"size\": 6, \"title\": \"6\"}, {\"color\": \"#3449eb\", \"font\": {\"color\": \"white\"}, \"id\": \"Production Engineer\", \"label\": \"Production Engineer\", \"shape\": \"dot\", \"size\": 6, \"title\": \"6\"}, {\"color\": \"#3449eb\", \"font\": {\"color\": \"white\"}, \"id\": \"Account Manager\", \"label\": \"Account Manager\", \"shape\": \"dot\", \"size\": 5, \"title\": \"5\"}, {\"color\": \"#3449eb\", \"font\": {\"color\": \"white\"}, \"id\": \"Production Technology Engineer\", \"label\": \"Production Technology Engineer\", \"shape\": \"dot\", \"size\": 5, \"title\": \"5\"}, {\"color\": \"#3449eb\", \"font\": {\"color\": \"white\"}, \"id\": \"Research Assistant\", \"label\": \"Research Assistant\", \"shape\": \"dot\", \"size\": 5, \"title\": \"5\"}, {\"color\": \"#3449eb\", \"font\": {\"color\": \"white\"}, \"id\": \"Intern\", \"label\": \"Intern\", \"shape\": \"dot\", \"size\": 5, \"title\": \"5\"}, {\"color\": \"#3449eb\", \"font\": {\"color\": \"white\"}, \"id\": \"Analyst\", \"label\": \"Analyst\", \"shape\": \"dot\", \"size\": 5, \"title\": \"5\"}, {\"color\": \"#3449eb\", \"font\": {\"color\": \"white\"}, \"id\": \"Managing Partner\", \"label\": \"Managing Partner\", \"shape\": \"dot\", \"size\": 5, \"title\": \"5\"}, {\"color\": \"#3449eb\", \"font\": {\"color\": \"white\"}, \"id\": \"Production Technologist\", \"label\": \"Production Technologist\", \"shape\": \"dot\", \"size\": 5, \"title\": \"5\"}, {\"color\": \"#3449eb\", \"font\": {\"color\": \"white\"}, \"id\": \"Senior Production Technologist\", \"label\": \"Senior Production Technologist\", \"shape\": \"dot\", \"size\": 5, \"title\": \"5\"}]);\n",
       "        edges = new vis.DataSet([{\"color\": \"grey\", \"from\": \"root\", \"to\": \"Petroleum Engineer\", \"weight\": 1}, {\"color\": \"grey\", \"from\": \"root\", \"to\": \"Reservoir Engineer\", \"weight\": 1}, {\"color\": \"grey\", \"from\": \"root\", \"to\": \"Managing Director\", \"weight\": 1}, {\"color\": \"grey\", \"from\": \"root\", \"to\": \"Process Engineer\", \"weight\": 1}, {\"color\": \"grey\", \"from\": \"root\", \"to\": \"Data Scientist\", \"weight\": 1}, {\"color\": \"grey\", \"from\": \"root\", \"to\": \"Chief Executive Officer\", \"weight\": 1}, {\"color\": \"grey\", \"from\": \"root\", \"to\": \"President\", \"weight\": 1}, {\"color\": \"grey\", \"from\": \"root\", \"to\": \"Director\", \"weight\": 1}, {\"color\": \"grey\", \"from\": \"root\", \"to\": \"Project Manager\", \"weight\": 1}, {\"color\": \"grey\", \"from\": \"root\", \"to\": \"Drilling Supervisor\", \"weight\": 1}, {\"color\": \"grey\", \"from\": \"root\", \"to\": \"Trainee\", \"weight\": 1}, {\"color\": \"grey\", \"from\": \"root\", \"to\": \"Senior Reservoir Engineer\", \"weight\": 1}, {\"color\": \"grey\", \"from\": \"root\", \"to\": \"Founder\", \"weight\": 1}, {\"color\": \"grey\", \"from\": \"root\", \"to\": \"Business Development Manager\", \"weight\": 1}, {\"color\": \"grey\", \"from\": \"root\", \"to\": \"Senior Petroleum Engineer\", \"weight\": 1}, {\"color\": \"grey\", \"from\": \"root\", \"to\": \"Drilling Engineer\", \"weight\": 1}, {\"color\": \"grey\", \"from\": \"root\", \"to\": \"Sales Manager\", \"weight\": 1}, {\"color\": \"grey\", \"from\": \"root\", \"to\": \"Associate Professor\", \"weight\": 1}, {\"color\": \"grey\", \"from\": \"root\", \"to\": \"CEO\", \"weight\": 1}, {\"color\": \"grey\", \"from\": \"root\", \"to\": \"Co-Founder\", \"weight\": 1}, {\"color\": \"grey\", \"from\": \"root\", \"to\": \"Production Engineer\", \"weight\": 1}, {\"color\": \"grey\", \"from\": \"root\", \"to\": \"Account Manager\", \"weight\": 1}, {\"color\": \"grey\", \"from\": \"root\", \"to\": \"Production Technology Engineer\", \"weight\": 1}, {\"color\": \"grey\", \"from\": \"root\", \"to\": \"Research Assistant\", \"weight\": 1}, {\"color\": \"grey\", \"from\": \"root\", \"to\": \"Intern\", \"weight\": 1}, {\"color\": \"grey\", \"from\": \"root\", \"to\": \"Analyst\", \"weight\": 1}, {\"color\": \"grey\", \"from\": \"root\", \"to\": \"Managing Partner\", \"weight\": 1}, {\"color\": \"grey\", \"from\": \"root\", \"to\": \"Production Technologist\", \"weight\": 1}, {\"color\": \"grey\", \"from\": \"root\", \"to\": \"Senior Production Technologist\", \"weight\": 1}]);\n",
       "\n",
       "        // adding nodes and edges to the graph\n",
       "        data = {nodes: nodes, edges: edges};\n",
       "\n",
       "        var options = {\n",
       "    \"configure\": {\n",
       "        \"enabled\": false\n",
       "    },\n",
       "    \"edges\": {\n",
       "        \"color\": {\n",
       "            \"inherit\": true\n",
       "        },\n",
       "        \"smooth\": {\n",
       "            \"enabled\": false,\n",
       "            \"type\": \"continuous\"\n",
       "        }\n",
       "    },\n",
       "    \"interaction\": {\n",
       "        \"dragNodes\": true,\n",
       "        \"hideEdgesOnDrag\": false,\n",
       "        \"hideNodesOnDrag\": false\n",
       "    },\n",
       "    \"physics\": {\n",
       "        \"enabled\": true,\n",
       "        \"hierarchicalRepulsion\": {\n",
       "            \"centralGravity\": 0.0,\n",
       "            \"damping\": 0.09,\n",
       "            \"nodeDistance\": 120,\n",
       "            \"springConstant\": 0.01,\n",
       "            \"springLength\": 100\n",
       "        },\n",
       "        \"solver\": \"hierarchicalRepulsion\",\n",
       "        \"stabilization\": {\n",
       "            \"enabled\": true,\n",
       "            \"fit\": true,\n",
       "            \"iterations\": 1000,\n",
       "            \"onlyDynamicEdges\": false,\n",
       "            \"updateInterval\": 50\n",
       "        }\n",
       "    }\n",
       "};\n",
       "        \n",
       "        \n",
       "\n",
       "        \n",
       "\n",
       "        network = new vis.Network(container, data, options);\n",
       "\t \n",
       "        \n",
       "\n",
       "\n",
       "        \n",
       "\n",
       "        return network;\n",
       "\n",
       "    }\n",
       "\n",
       "    drawGraph();\n",
       "\n",
       "</script>\n",
       "</body>\n",
       "</html>"
      ],
      "text/plain": [
       "<IPython.core.display.HTML object>"
      ]
     },
     "metadata": {},
     "output_type": "display_data"
    }
   ],
   "source": [
    "# initialize graph\n",
    "g = nx.Graph()\n",
    "g.add_node('root') # intialize yourself as central\n",
    "\n",
    "# use iterrows tp iterate through the data frame\n",
    "for _, row in df_position_reduced.iterrows():\n",
    "\n",
    "    count = f\"{row['count']}\"\n",
    "    position= row['position']\n",
    "  \n",
    "    g.add_node(position, size=count, color='#3449eb', title=count)\n",
    "    g.add_edge('root', position, color='grey')\n",
    "\n",
    "# generate the graph\n",
    "nt = net.Network(height='700px', width='700px', bgcolor=\"black\", font_color='white')\n",
    "nt.from_nx(g)\n",
    "nt.hrepulsion()\n",
    "# more customization https://tinyurl.com/yf5lvvdm\n",
    "nt.show('position_graph.html')\n",
    "display(HTML('position_graph.html'))"
   ]
  }
 ],
 "metadata": {
  "kernelspec": {
   "display_name": "Python 3",
   "language": "python",
   "name": "python3"
  },
  "language_info": {
   "codemirror_mode": {
    "name": "ipython",
    "version": 3
   },
   "file_extension": ".py",
   "mimetype": "text/x-python",
   "name": "python",
   "nbconvert_exporter": "python",
   "pygments_lexer": "ipython3",
   "version": "3.7.4"
  }
 },
 "nbformat": 4,
 "nbformat_minor": 2
}
